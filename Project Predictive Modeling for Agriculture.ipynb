{
 "cells": [
  {
   "cell_type": "markdown",
   "id": "d3d001b0-2e2f-4b58-8442-99520bad831f",
   "metadata": {},
   "source": [
    "# Sowing Success: How Machine Learning Helps Farmers Select the Best Crops\n",
    "\n",
    "![Farmer in a field](farmer_in_a_field.jpg)\n",
    "\n",
    "Measuring essential soil metrics such as nitrogen, phosphorous, potassium levels, and pH value is an important aspect of assessing soil condition. However, it can be an expensive and time-consuming process, which can cause farmers to prioritize which metrics to measure based on their budget constraints.\n",
    "\n",
    "Farmers have various options when it comes to deciding which crop to plant each season. Their primary objective is to maximize the yield of their crops, taking into account different factors. One crucial factor that affects crop growth is the condition of the soil in the field, which can be assessed by measuring basic elements such as nitrogen and potassium levels. Each crop has an ideal soil condition that ensures optimal growth and maximum yield.\n",
    "\n",
    "A farmer reached out to you as a machine learning expert for assistance in selecting the best crop for his field. They've provided you with a dataset called `soil_measures.csv`, which contains:\n",
    "\n",
    "- `\"N\"`: Nitrogen content ratio in the soil\n",
    "- `\"P\"`: Phosphorous content ratio in the soil\n",
    "- `\"K\"`: Potassium content ratio in the soil\n",
    "- `\"pH\"` value of the soil\n",
    "- `\"crop\"`: categorical values that contain various crops (target variable).\n",
    "\n",
    "Each row in this dataset represents various measures of the soil in a particular field. Based on these measurements, the crop specified in the `\"crop\"` column is the optimal choice for that field.  \n",
    "\n",
    "In this project, you will build multi-class classification models to predict the type of `\"crop\"` and identify the single most importance feature for predictive performance."
   ]
  },
  {
   "cell_type": "code",
   "execution_count": 53,
   "id": "d0eb4f16-5a99-460d-a5ba-706b7ef0bbe7",
   "metadata": {
    "executionCancelledAt": null,
    "executionTime": 2008,
    "id": "bA5ajAmk7XH6",
    "lastExecutedAt": 1741624832937,
    "lastExecutedByKernel": "478556d5-b5c6-44dd-bf7d-4102a97232ed",
    "lastScheduledRunId": null,
    "lastSuccessfullyExecutedCode": "import pandas as pd\nimport numpy as np\nfrom sklearn.model_selection import train_test_split\nfrom sklearn.preprocessing import StandardScaler\nfrom sklearn.linear_model import LogisticRegression\nfrom sklearn.metrics import f1_score\n\n# Load dataset (replace with actual dataset)\ndf = pd.read_csv(\"soil_measures.csv\")\n\n# Define features and target variable\nX = df.drop(columns=[\"crop\"])  # Exclude target variable\ny = df[\"crop\"]  # Target variable\n\n# Scale features\nscaler = StandardScaler()\nX_scaled = pd.DataFrame(scaler.fit_transform(X), columns=X.columns)\n\n# Train single-feature models and evaluate\nbest_feature = None\nbest_score = 0\n\nfor feature in X_scaled.columns:\n    X_train, X_test, y_train, y_test = train_test_split(\n        X_scaled[[feature]], y, test_size=0.2, random_state=42\n    )\n\n    # Train Logistic Regression model\n    model = LogisticRegression()\n    model.fit(X_train, y_train)\n\n    # Predict and evaluate using F1-score\n    y_pred = model.predict(X_test)\n    score = f1_score(y_test, y_pred, average=\"weighted\")\n\n    # Store the best feature\n    if score > best_score:\n        best_score = score\n        best_feature = feature\n\n# Store result in dictionary\nbest_predictive_feature = {best_feature: best_score}\n\nprint(\"Best Predictive Feature:\", best_predictive_feature)\n",
    "outputsMetadata": {
     "0": {
      "height": 38,
      "type": "stream"
     }
    }
   },
   "outputs": [
    {
     "name": "stdout",
     "output_type": "stream",
     "text": [
      "Best Predictive Feature: {'K': 0.13831456375684123}\n"
     ]
    }
   ],
   "source": [
    "import pandas as pd\n",
    "import numpy as np\n",
    "from sklearn.model_selection import train_test_split\n",
    "from sklearn.preprocessing import StandardScaler\n",
    "from sklearn.linear_model import LogisticRegression\n",
    "from sklearn.metrics import f1_score\n",
    "\n",
    "# Load dataset (replace with actual dataset)\n",
    "df = pd.read_csv(\"soil_measures.csv\")\n",
    "\n",
    "# Define features and target variable\n",
    "X = df.drop(columns=[\"crop\"])  # Exclude target variable\n",
    "y = df[\"crop\"]  # Target variable\n",
    "\n",
    "# Scale features\n",
    "scaler = StandardScaler()\n",
    "X_scaled = pd.DataFrame(scaler.fit_transform(X), columns=X.columns)\n",
    "\n",
    "# Train single-feature models and evaluate\n",
    "best_feature = None\n",
    "best_score = 0\n",
    "\n",
    "for feature in X_scaled.columns:\n",
    "    X_train, X_test, y_train, y_test = train_test_split(\n",
    "        X_scaled[[feature]], y, test_size=0.2, random_state=42\n",
    "    )\n",
    "\n",
    "    # Train Logistic Regression model\n",
    "    model = LogisticRegression()\n",
    "    model.fit(X_train, y_train)\n",
    "\n",
    "    # Predict and evaluate using F1-score\n",
    "    y_pred = model.predict(X_test)\n",
    "    score = f1_score(y_test, y_pred, average=\"weighted\")\n",
    "\n",
    "    # Store the best feature\n",
    "    if score > best_score:\n",
    "        best_score = score\n",
    "        best_feature = feature\n",
    "\n",
    "# Store result in dictionary\n",
    "best_predictive_feature = {best_feature: best_score}\n",
    "\n",
    "print(\"Best Predictive Feature:\", best_predictive_feature)\n"
   ]
  }
 ],
 "metadata": {
  "colab": {
   "name": "Welcome to DataCamp Workspaces.ipynb",
   "provenance": []
  },
  "kernelspec": {
   "display_name": "Python 3 (ipykernel)",
   "language": "python",
   "name": "python3"
  },
  "language_info": {
   "codemirror_mode": {
    "name": "ipython",
    "version": 3
   },
   "file_extension": ".py",
   "mimetype": "text/x-python",
   "name": "python",
   "nbconvert_exporter": "python",
   "pygments_lexer": "ipython3",
   "version": "3.11.5"
  }
 },
 "nbformat": 4,
 "nbformat_minor": 5
}
